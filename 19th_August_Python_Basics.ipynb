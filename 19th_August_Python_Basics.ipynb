{
 "cells": [
  {
   "cell_type": "markdown",
   "id": "ecbdedbb",
   "metadata": {},
   "source": [
    "## TOPIC: Python Basics Variable"
   ]
  },
  {
   "cell_type": "code",
   "execution_count": 4,
   "id": "5f5c4cb2",
   "metadata": {},
   "outputs": [
    {
     "name": "stdout",
     "output_type": "stream",
     "text": [
      "Before Swapping x:100 y:200\n",
      "After Swapping x:100 y:200\n"
     ]
    }
   ],
   "source": [
    "\"\"\"1. Declare two variables, 'x' and 'y', and assign them integer values. Swap the\n",
    "values of these variables without using any temporary variable.\"\"\"\n",
    "\n",
    "# Variable Assignment\n",
    "x=100\n",
    "y=200\n",
    "print(\"Before Swapping x:\"+str(x)+\" y:\"+str(y))\n",
    "# code to swap x and yx,y=y,x\n",
    "print(\"After Swapping x:\"+str(x)+\" y:\"+str(y))"
   ]
  },
  {
   "cell_type": "code",
   "execution_count": 6,
   "id": "8aed4f12",
   "metadata": {},
   "outputs": [
    {
     "name": "stdout",
     "output_type": "stream",
     "text": [
      "Enter the length of the rectangle: 23\n",
      "Enter the width of the rectangle: 46\n",
      "Area Of Rectangle 1058\n"
     ]
    }
   ],
   "source": [
    "\"\"\"2. Create a program that calculates the area of a rectangle. Take the length and\n",
    "width as inputs from the user and store them in variables. Calculate and\n",
    "display the area.\"\"\"\n",
    "\n",
    "# getting input from the user\n",
    "length = int(input(\"Enter the length of the rectangle: \"))\n",
    "width = int(input(\"Enter the width of the rectangle: \"))\n",
    "\n",
    "# calculating area of rectangle\n",
    "area_of_rectangle=length*width\n",
    "\n",
    "print('Area Of Rectangle '+str(area_of_rectangle))"
   ]
  },
  {
   "cell_type": "code",
   "execution_count": 9,
   "id": "864b26d4",
   "metadata": {},
   "outputs": [
    {
     "name": "stdout",
     "output_type": "stream",
     "text": [
      "Enter the temperature in Celsius: 23.4\n",
      "Temparature in Fahrenheit: 74.12\n"
     ]
    }
   ],
   "source": [
    "\"\"\"3. Write a Python program that converts temperatures from Celsius to\n",
    "Fahrenheit. Take the temperature in Celsius as input, store it in a variable,\n",
    "convert it to Fahrenheit, and display the result.\"\"\"\n",
    "# getting input from the user\n",
    "celsius = float(input(\"Enter the temperature in Celsius: \"))\n",
    "\n",
    "# celsius to fahrenheit conversion\n",
    "fahrenheit = celsius*(9/5)+32\n",
    "print(\"Temparature in Fahrenheit: \"+str(fahrenheit))"
   ]
  },
  {
   "cell_type": "markdown",
   "id": "0b898f16",
   "metadata": {},
   "source": [
    "## TOPIC: String Based Questions"
   ]
  },
  {
   "cell_type": "code",
   "execution_count": 10,
   "id": "3a297c6a",
   "metadata": {},
   "outputs": [
    {
     "name": "stdout",
     "output_type": "stream",
     "text": [
      "Enter the String: pwskills\n",
      "Length of the String: 8\n"
     ]
    }
   ],
   "source": [
    "\"\"\"1. Write a Python program that takes a string as input and prints the length of\n",
    "the string.\"\"\"\n",
    "\n",
    "# getting input from the user\n",
    "input_str = input(\"Enter the String: \")\n",
    "\n",
    "# printing length of the string\n",
    "print(\"Length of the String: \"+str(len(input_str)))"
   ]
  },
  {
   "cell_type": "code",
   "execution_count": 15,
   "id": "34a432fe",
   "metadata": {},
   "outputs": [
    {
     "name": "stdout",
     "output_type": "stream",
     "text": [
      "Enter the Sentence: python basics\n",
      "Vowels Count in a Sentence: 3\n"
     ]
    }
   ],
   "source": [
    "\"\"\"2. Create a program that takes a sentence from the user and counts the number\n",
    "of vowels (a, e, i, o, u) in the string.\"\"\"\n",
    "\n",
    "# getting input from the user\n",
    "input_str = input(\"Enter the Sentence: \")\n",
    "\n",
    "# counting vowels from a string\n",
    "vowels_count = input_str.count('a')+input_str.count('e')+input_str.count('i')+input_str.count('o')+input_str.count('u')\n",
    "\n",
    "# printing length of the vowels\n",
    "print(\"Vowels Count in a Sentence: \"+str(vowels_count))"
   ]
  },
  {
   "cell_type": "code",
   "execution_count": 17,
   "id": "53b61ece",
   "metadata": {},
   "outputs": [
    {
     "name": "stdout",
     "output_type": "stream",
     "text": [
      "Enter the String: pwskills\n",
      "Reversed String using string slicing: sllikswp\n"
     ]
    }
   ],
   "source": [
    "\"\"\"3. Given a string, reverse the order of characters using string slicing and print\n",
    "the reversed string.\"\"\"\n",
    "\n",
    "# getting input from the user\n",
    "input_str = input(\"Enter the String: \")\n",
    "\n",
    "# printing string reversal with slicing\n",
    "print(\"Reversed String using string slicing: \"+input_str[::-1])"
   ]
  },
  {
   "cell_type": "code",
   "execution_count": 20,
   "id": "59112e51",
   "metadata": {},
   "outputs": [
    {
     "name": "stdout",
     "output_type": "stream",
     "text": [
      "Enter the String: level\n",
      "String is a Palindrome\n"
     ]
    }
   ],
   "source": [
    "\"\"\"4. Write a program that takes a string as input and checks if it is a palindrome\n",
    "(reads the same forwards and backwards).\"\"\"\n",
    "\n",
    "# getting input from the user\n",
    "input_str = input(\"Enter the String: \")\n",
    "\n",
    "# checks string is palindrome or not\n",
    "if input_str==input_str[::-1] :\n",
    "    print(\"String is a Palindrome\")\n",
    "else:\n",
    "    print(\"String is not a palindrome\")\n"
   ]
  },
  {
   "cell_type": "code",
   "execution_count": 22,
   "id": "90b14b5e",
   "metadata": {},
   "outputs": [
    {
     "name": "stdout",
     "output_type": "stream",
     "text": [
      "Enter the String: this is my first python basic class\n",
      "Modified string by removing spaces: thisismyfirstpythonbasicclass\n"
     ]
    }
   ],
   "source": [
    "\"\"\"5. Create a program that takes a string as input and removes all the spaces from\n",
    "it. Print the modified string without spaces.\"\"\"\n",
    "\n",
    "# getting input from the user\n",
    "input_str = input(\"Enter the String: \")\n",
    "\n",
    "# printing string by removing spaces\n",
    "print(\"Modified string by removing spaces: \"+input_str.replace(\" \",\"\"))"
   ]
  }
 ],
 "metadata": {
  "kernelspec": {
   "display_name": "Python 3 (ipykernel)",
   "language": "python",
   "name": "python3"
  },
  "language_info": {
   "codemirror_mode": {
    "name": "ipython",
    "version": 3
   },
   "file_extension": ".py",
   "mimetype": "text/x-python",
   "name": "python",
   "nbconvert_exporter": "python",
   "pygments_lexer": "ipython3",
   "version": "3.9.12"
  }
 },
 "nbformat": 4,
 "nbformat_minor": 5
}
